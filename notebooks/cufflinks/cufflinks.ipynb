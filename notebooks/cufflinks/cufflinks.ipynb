{
 "metadata": {
  "name": "",
  "signature": "sha256:30e26d4df3a8598c12f83e8da25148f78efe772ce78ab6447ee304c79159d1c9"
 },
 "nbformat": 3,
 "nbformat_minor": 0,
 "worksheets": [
  {
   "cells": [
    {
     "cell_type": "code",
     "collapsed": false,
     "input": [
      "from IPython.core.display import HTML,display"
     ],
     "language": "python",
     "metadata": {},
     "outputs": [],
     "prompt_number": 1
    },
    {
     "cell_type": "code",
     "collapsed": false,
     "input": [
      "ss=open('custom.css','r').read()\n",
      "style='<style>\\n%s\\n</style>' % (ss)\n",
      "display(HTML(style))"
     ],
     "language": "python",
     "metadata": {},
     "outputs": [
      {
       "html": [
        "<style>\n",
        "/*\n",
        "Custom CSS for Cufflinks Notebook\n",
        "*/\n",
        "\n",
        "h1,\n",
        "h2 {\n",
        "  margin: 0 0 22px 0;\n",
        "  color: #f08;\n",
        "  font-family: \"Helvetica\",\"Segoe UI\";\n",
        "  line-height: 0.8em;\n",
        "  letter-spacing: 0.02em;\n",
        "  text-transform: uppercase;\n",
        "  text-shadow: none; \n",
        "  text-align: left;\n",
        "}\n",
        "\n",
        "h3,\n",
        "h4,\n",
        "h5,\n",
        "h6 {\n",
        "  margin: 0 0 22px 0;\n",
        "  color: #151516;\n",
        "  font-family: \"Helvetica\",\"Segoe UI\";\n",
        "  line-height: 0.8em;\n",
        "  letter-spacing: 0.02em;\n",
        "  text-shadow: none; \n",
        "  text-align: left;}\n",
        "\n",
        " em {\n",
        " \tcolor:#f08;\n",
        " }\n",
        "\n",
        "strong {\n",
        "  background: rgba(81, 190, 122,.3);\n",
        "  color: #149c47;\n",
        " }\n",
        "\n",
        "table {\n",
        "  font-size: 12px;\n",
        "  color:#151515;\n",
        "  margin: 45px;\n",
        "  width: 480px;\n",
        "  text-align: left;\n",
        "  border-collapse: collapse;\n",
        "  border-color: #fff !important;\n",
        "}\n",
        "\n",
        "th {\n",
        "  padding: 6px;\n",
        "  font-weight: normal !important;\n",
        "  font-size: 13px;\n",
        "  color: #ffffff;\n",
        "  background: #336688;\n",
        "}\n",
        "\n",
        " tbody tr th {\n",
        "  padding: 6px;\n",
        "  font-weight: normal !important;\n",
        "  font-size: 12px;\n",
        "  color: #ffffff;\n",
        "  background: #5293be;\t\n",
        "}\n",
        "\n",
        "td {\n",
        "  padding: 5px;\n",
        "  border-top: 1px solid #ffffff;\n",
        "  color: #151516;\n",
        "}\n",
        "\n",
        "\n",
        "\n",
        "tbody tr:hover td {\n",
        "  background: #d0dafd;\n",
        "}\n",
        "\n",
        ".rendered_html tr, .rendered_html td {\n",
        "\tborder: 1px solid #fff !important;\n",
        "}\n",
        "\n",
        ".rendered_html th {\n",
        "\tborder: 2px solid #fff !important;\n",
        "}\n",
        "\n",
        "tr:nth-child(even) {\n",
        "  padding: 5px;\n",
        "  background: #ffffff;\n",
        "  border-top: 1px solid #95B3D7;\n",
        "  color: #669;\n",
        "}\n",
        "tr:nth-child(odd) {\n",
        "  padding: 5px;\n",
        "  background: #DCE6F1;\n",
        "  border-top: 1px solid #95B3D7;\n",
        "  color: #669;\n",
        "}\n",
        "\n",
        "\n",
        "\n",
        "</style>"
       ],
       "metadata": {},
       "output_type": "display_data",
       "text": [
        "<IPython.core.display.HTML at 0x104744250>"
       ]
      }
     ],
     "prompt_number": 2
    },
    {
     "cell_type": "code",
     "collapsed": false,
     "input": [
      "%reload_ext autoreload\n",
      "%autoreload 2"
     ],
     "language": "python",
     "metadata": {},
     "outputs": [],
     "prompt_number": 3
    },
    {
     "cell_type": "markdown",
     "metadata": {},
     "source": [
      "#Cufflinks\n",
      "\n",
      "This library binds the power of [plotly](http://www.plot.ly) with the flexibility of [pandas](http://pandas.pydata.org/) for easy plotting.\n",
      "\n",
      "This library is available on https://github.com/santosjorge/cufflinks\n",
      "\n",
      "This tutorial assumes that the plotly user credentials have already been configured as stated on the [getting started](https://plot.ly/python/getting-started/) guide."
     ]
    },
    {
     "cell_type": "code",
     "collapsed": false,
     "input": [
      "import cufflinks as cf"
     ],
     "language": "python",
     "metadata": {},
     "outputs": [],
     "prompt_number": 4
    },
    {
     "cell_type": "markdown",
     "metadata": {},
     "source": [
      "## Line Chart"
     ]
    },
    {
     "cell_type": "code",
     "collapsed": false,
     "input": [
      "cf.datagen.lines().iplot(kind='scatter',xTitle='Dates',yTitle='Returns',title='Cufflinks - Line Chart',\n",
      "                         world_readable=True)"
     ],
     "language": "python",
     "metadata": {},
     "outputs": [
      {
       "html": [
        "<iframe id=\"igraph\" scrolling=\"no\" style=\"border:none;\"seamless=\"seamless\" src=\"https://plot.ly/~jorgesantos/388.embed\" height=\"525\" width=\"100%\"></iframe>"
       ],
       "metadata": {},
       "output_type": "pyout",
       "prompt_number": 6,
       "text": [
        "<plotly.tools.PlotlyDisplay at 0x104d0c790>"
       ]
      }
     ],
     "prompt_number": 6
    },
    {
     "cell_type": "code",
     "collapsed": false,
     "input": [
      "cf.datagen.lines(3).iplot(kind='scatter',xTitle='Dates',yTitle='Returns',title='Cufflinks - Filled Line Chart',\n",
      "                         colorscale='-blues',fill=True,world_readable=True)"
     ],
     "language": "python",
     "metadata": {},
     "outputs": [
      {
       "html": [
        "<iframe id=\"igraph\" scrolling=\"no\" style=\"border:none;\"seamless=\"seamless\" src=\"https://plot.ly/~jorgesantos/410.embed\" height=\"525\" width=\"100%\"></iframe>"
       ],
       "metadata": {},
       "output_type": "pyout",
       "prompt_number": 29,
       "text": [
        "<plotly.tools.PlotlyDisplay at 0x107710c90>"
       ]
      }
     ],
     "prompt_number": 29
    },
    {
     "cell_type": "code",
     "collapsed": false,
     "input": [
      "cf.datagen.lines(1).iplot(kind='scatter',xTitle='Dates',yTitle='Returns',title='Cufflinks - Besfit Line Chart',\n",
      "                         filename='Cufflinks - Bestfit Line Chart',bestfit=True,colors=['blue'],\n",
      "                         bestfit_colors=['pink'],world_readable=True)"
     ],
     "language": "python",
     "metadata": {},
     "outputs": [
      {
       "html": [
        "<iframe id=\"igraph\" scrolling=\"no\" style=\"border:none;\"seamless=\"seamless\" src=\"https://plot.ly/~jorgesantos/403.embed\" height=\"525\" width=\"100%\"></iframe>"
       ],
       "metadata": {},
       "output_type": "pyout",
       "prompt_number": 8,
       "text": [
        "<plotly.tools.PlotlyDisplay at 0x10b58c750>"
       ]
      }
     ],
     "prompt_number": 8
    },
    {
     "cell_type": "markdown",
     "metadata": {},
     "source": [
      "## Scatter Chart"
     ]
    },
    {
     "cell_type": "code",
     "collapsed": false,
     "input": [
      "cf.datagen.lines(2).iplot(kind='scatter',mode='markers',size=10,symbol='x',colorscale='paired',\n",
      "                          xTitle='Dates',yTitle='EPS Growth',title='Cufflinks - Scatter Chart',\n",
      "                          world_readable=True)"
     ],
     "language": "python",
     "metadata": {},
     "outputs": [
      {
       "html": [
        "<iframe id=\"igraph\" scrolling=\"no\" style=\"border:none;\"seamless=\"seamless\" src=\"https://plot.ly/~jorgesantos/406.embed\" height=\"525\" width=\"100%\"></iframe>"
       ],
       "metadata": {},
       "output_type": "pyout",
       "prompt_number": 9,
       "text": [
        "<plotly.tools.PlotlyDisplay at 0x1077393d0>"
       ]
      }
     ],
     "prompt_number": 9
    },
    {
     "cell_type": "markdown",
     "metadata": {},
     "source": [
      "## Spread Chart"
     ]
    },
    {
     "cell_type": "code",
     "collapsed": false,
     "input": [
      "cf.datagen.lines(2).iplot(kind='spread',xTitle='Dates',yTitle='Return',title='Cufflinks - Spread Chart',\n",
      "                          world_readable=True)"
     ],
     "language": "python",
     "metadata": {},
     "outputs": [
      {
       "html": [
        "<iframe id=\"igraph\" scrolling=\"no\" style=\"border:none;\"seamless=\"seamless\" src=\"https://plot.ly/~jorgesantos/407.embed\" height=\"525\" width=\"100%\"></iframe>"
       ],
       "metadata": {},
       "output_type": "pyout",
       "prompt_number": 19,
       "text": [
        "<plotly.tools.PlotlyDisplay at 0x10774b350>"
       ]
      }
     ],
     "prompt_number": 19
    },
    {
     "cell_type": "markdown",
     "metadata": {},
     "source": [
      "## Bar Chart"
     ]
    },
    {
     "cell_type": "code",
     "collapsed": false,
     "input": [
      "cf.datagen.lines(5).resample('M').iplot(kind='bar',xTitle='Dates',yTitle='Return',title='Cufflinks - Bar Chart',\n",
      "                          world_readable=True)"
     ],
     "language": "python",
     "metadata": {},
     "outputs": [
      {
       "html": [
        "<iframe id=\"igraph\" scrolling=\"no\" style=\"border:none;\"seamless=\"seamless\" src=\"https://plot.ly/~jorgesantos/408.embed\" height=\"525\" width=\"100%\"></iframe>"
       ],
       "metadata": {},
       "output_type": "pyout",
       "prompt_number": 20,
       "text": [
        "<plotly.tools.PlotlyDisplay at 0x107710650>"
       ]
      }
     ],
     "prompt_number": 20
    },
    {
     "cell_type": "code",
     "collapsed": false,
     "input": [
      "cf.datagen.lines(5).resample('M').iplot(kind='bar',xTitle='Dates',yTitle='Return',title='Cufflinks - Grouped Bar Chart',\n",
      "                          barmode='stack',world_readable=False)"
     ],
     "language": "python",
     "metadata": {},
     "outputs": [
      {
       "html": [
        "<iframe id=\"igraph\" scrolling=\"no\" style=\"border:none;\"seamless=\"seamless\" src=\"https://plot.ly/~jorgesantos/390.embed\" height=\"525\" width=\"100%\"></iframe>"
       ],
       "metadata": {},
       "output_type": "pyout",
       "prompt_number": 21,
       "text": [
        "<plotly.tools.PlotlyDisplay at 0x10b58c990>"
       ]
      }
     ],
     "prompt_number": 21
    },
    {
     "cell_type": "markdown",
     "metadata": {},
     "source": [
      "## Box Plot"
     ]
    },
    {
     "cell_type": "code",
     "collapsed": false,
     "input": [
      "cf.datagen.box(6).iplot(kind='box',xTitle='Stocks',yTitle='Returns Distribution',title='Cufflinks - Box Plot',\n",
      "                        world_readable=True)"
     ],
     "language": "python",
     "metadata": {},
     "outputs": [
      {
       "html": [
        "<iframe id=\"igraph\" scrolling=\"no\" style=\"border:none;\"seamless=\"seamless\" src=\"https://plot.ly/~jorgesantos/389.embed\" height=\"525\" width=\"100%\"></iframe>"
       ],
       "metadata": {},
       "output_type": "pyout",
       "prompt_number": 22,
       "text": [
        "<plotly.tools.PlotlyDisplay at 0x10b58c790>"
       ]
      }
     ],
     "prompt_number": 22
    },
    {
     "cell_type": "markdown",
     "metadata": {},
     "source": [
      "## Historgram"
     ]
    },
    {
     "cell_type": "code",
     "collapsed": false,
     "input": [
      "cf.datagen.histogram(2).iplot(kind='histogram',opacity=.75,title='Cufflinks - Histogram',\n",
      "                              linecolor='white',world_readable=True)"
     ],
     "language": "python",
     "metadata": {},
     "outputs": [
      {
       "html": [
        "<iframe id=\"igraph\" scrolling=\"no\" style=\"border:none;\"seamless=\"seamless\" src=\"https://plot.ly/~jorgesantos/391.embed\" height=\"525\" width=\"100%\"></iframe>"
       ],
       "metadata": {},
       "output_type": "pyout",
       "prompt_number": 23,
       "text": [
        "<plotly.tools.PlotlyDisplay at 0x10b58c6d0>"
       ]
      }
     ],
     "prompt_number": 23
    },
    {
     "cell_type": "markdown",
     "metadata": {},
     "source": [
      "##Heatmap Plot"
     ]
    },
    {
     "cell_type": "code",
     "collapsed": false,
     "input": [
      "cf.datagen.heatmap(20,20).iplot(kind='heatmap',colorscale='spectral',title='Cufflinks - Heatmap',\n",
      "                                world_readable=True)"
     ],
     "language": "python",
     "metadata": {},
     "outputs": [
      {
       "html": [
        "<iframe id=\"igraph\" scrolling=\"no\" style=\"border:none;\"seamless=\"seamless\" src=\"https://plot.ly/~jorgesantos/395.embed\" height=\"525\" width=\"100%\"></iframe>"
       ],
       "metadata": {},
       "output_type": "pyout",
       "prompt_number": 24,
       "text": [
        "<plotly.tools.PlotlyDisplay at 0x10b58c710>"
       ]
      }
     ],
     "prompt_number": 24
    },
    {
     "cell_type": "markdown",
     "metadata": {},
     "source": [
      "##Bubble Chart"
     ]
    },
    {
     "cell_type": "code",
     "collapsed": false,
     "input": [
      "cf.datagen.bubble(prefix='industry').iplot(kind='bubble',x='x',y='y',size='size',categories='categories',text='text',\n",
      "                          xTitle='Returns',yTitle='Analyst Score',title='Cufflinks - Bubble Chart',\n",
      "                          world_readable=True)"
     ],
     "language": "python",
     "metadata": {},
     "outputs": [
      {
       "html": [
        "<iframe id=\"igraph\" scrolling=\"no\" style=\"border:none;\"seamless=\"seamless\" src=\"https://plot.ly/~jorgesantos/396.embed\" height=\"525\" width=\"100%\"></iframe>"
       ],
       "metadata": {},
       "output_type": "pyout",
       "prompt_number": 25,
       "text": [
        "<plotly.tools.PlotlyDisplay at 0x107710610>"
       ]
      }
     ],
     "prompt_number": 25
    },
    {
     "cell_type": "markdown",
     "metadata": {},
     "source": [
      "##Scatter 3D"
     ]
    },
    {
     "cell_type": "code",
     "collapsed": false,
     "input": [
      "cf.datagen.scatter3d(2,150).iplot(kind='scatter3d',x='x',y='y',z='z',size=15,categories='categories',text='text',\n",
      "                             title='Cufflinks - Scatter 3D Chart',colors=['blue','pink'],width=0.5,margin=(0,0,0,0),\n",
      "                             world_readable=True)"
     ],
     "language": "python",
     "metadata": {},
     "outputs": [
      {
       "html": [
        "<iframe id=\"igraph\" scrolling=\"no\" style=\"border:none;\"seamless=\"seamless\" src=\"https://plot.ly/~jorgesantos/397.embed\" height=\"525\" width=\"100%\"></iframe>"
       ],
       "metadata": {},
       "output_type": "pyout",
       "prompt_number": 26,
       "text": [
        "<plotly.tools.PlotlyDisplay at 0x107710a90>"
       ]
      }
     ],
     "prompt_number": 26
    },
    {
     "cell_type": "markdown",
     "metadata": {},
     "source": [
      "##Bubble 3D "
     ]
    },
    {
     "cell_type": "code",
     "collapsed": false,
     "input": [
      "cf.datagen.bubble3d(5,4).iplot(kind='bubble3d',x='x',y='y',z='z',size='size',text='text',categories='categories',\n",
      "                            title='Cufflinks - Bubble 3D Chart',colorscale='set1',\n",
      "                            width=.5,opacity=.8,world_readable=True)"
     ],
     "language": "python",
     "metadata": {},
     "outputs": [
      {
       "html": [
        "<iframe id=\"igraph\" scrolling=\"no\" style=\"border:none;\"seamless=\"seamless\" src=\"https://plot.ly/~jorgesantos/402.embed\" height=\"525\" width=\"100%\"></iframe>"
       ],
       "metadata": {},
       "output_type": "pyout",
       "prompt_number": 27,
       "text": [
        "<plotly.tools.PlotlyDisplay at 0x10b5e5e50>"
       ]
      }
     ],
     "prompt_number": 27
    },
    {
     "cell_type": "markdown",
     "metadata": {},
     "source": [
      "##Surface"
     ]
    },
    {
     "cell_type": "code",
     "collapsed": false,
     "input": [
      "cf.datagen.sinwave(10,.25).iplot(kind='surface',theme='solar',colorscale='brbg',title='Cufflinks - Surface Plot',\n",
      "                                 margin=(0,0,0,0),world_readable=True)"
     ],
     "language": "python",
     "metadata": {},
     "outputs": [
      {
       "html": [
        "<iframe id=\"igraph\" scrolling=\"no\" style=\"border:none;\"seamless=\"seamless\" src=\"https://plot.ly/~jorgesantos/401.embed\" height=\"525\" width=\"100%\"></iframe>"
       ],
       "metadata": {},
       "output_type": "pyout",
       "prompt_number": 28,
       "text": [
        "<plotly.tools.PlotlyDisplay at 0x107710e50>"
       ]
      }
     ],
     "prompt_number": 28
    },
    {
     "cell_type": "code",
     "collapsed": false,
     "input": [],
     "language": "python",
     "metadata": {},
     "outputs": [],
     "prompt_number": 28
    },
    {
     "cell_type": "code",
     "collapsed": false,
     "input": [],
     "language": "python",
     "metadata": {},
     "outputs": []
    }
   ],
   "metadata": {}
  }
 ]
}